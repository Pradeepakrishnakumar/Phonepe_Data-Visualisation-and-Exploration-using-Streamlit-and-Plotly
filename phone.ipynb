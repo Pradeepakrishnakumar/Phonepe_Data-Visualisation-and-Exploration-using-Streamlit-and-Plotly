{
 "cells": [
  {
   "cell_type": "code",
   "execution_count": 14,
   "metadata": {},
   "outputs": [],
   "source": [
    "import plotly.express as px"
   ]
  },
  {
   "cell_type": "code",
   "execution_count": 1,
   "metadata": {},
   "outputs": [],
   "source": [
    "state_mapping={'west-bengal':'West Bengal',\n",
    " 'delhi':'Delhi',\n",
    " 'rajasthan':'Rajasthan',\n",
    " 'tamil-nadu':'Tamil Nadu',\n",
    " 'dadra-&-nagar-haveli-&-daman-&-diu':'Dadra and Nagar Haveli and Daman and Diu',\n",
    " 'goa':'Goa',\n",
    " 'bihar':'Bihar',\n",
    " 'puducherry':'Puducherry',\n",
    " 'meghalaya':'Meghalaya',\n",
    " 'gujarat':'Gujarat',\n",
    " 'punjab':'Punjab',\n",
    " 'maharashtra':'Maharashtra',\n",
    " 'tripura':'Tripura',\n",
    " 'andaman-&-nicobar-islands' :'Andaman & Nicobar',\n",
    " 'telangana':'Telangana',\n",
    " 'uttarakhand':'Uttarakhand',\n",
    " 'lakshadweep':'Lakshadweep',\n",
    " 'chhattisgarh':'Chhattisgarh',\n",
    " 'chandigarh':'Chandigarh',\n",
    " 'jammu-&-kashmir':'Jammu & Kashmir',\n",
    " 'nagaland':'Nagaland',\n",
    " 'ladakh':'Ladakh',\n",
    " 'uttar-pradesh':'Uttar Pradesh',\n",
    " 'himachal-pradesh':'Himachal Pradesh',\n",
    " 'kerala':'Kerala',\n",
    " 'mizoram':'Mizoram',\n",
    " 'haryana':'Haryana',\n",
    " 'madhya-pradesh':'Madhya Pradesh',\n",
    " 'assam':'Assam',\n",
    " 'andhra-pradesh':'Andhra Pradesh',\n",
    " 'odisha':'Odisha',\n",
    " 'sikkim':'Sikkim',\n",
    " 'manipur':'Manipur',\n",
    " 'jharkhand':'Jharkhand',\n",
    " 'arunachal-pradesh':'Arunachal Pradesh',\n",
    " 'karnataka':'Karnataka'}"
   ]
  },
  {
   "cell_type": "code",
   "execution_count": 1,
   "metadata": {},
   "outputs": [
    {
     "ename": "NameError",
     "evalue": "name 'state_mapping' is not defined",
     "output_type": "error",
     "traceback": [
      "\u001b[1;31m---------------------------------------------------------------------------\u001b[0m",
      "\u001b[1;31mNameError\u001b[0m                                 Traceback (most recent call last)",
      "Cell \u001b[1;32mIn[1], line 43\u001b[0m\n\u001b[0;32m     41\u001b[0m \u001b[38;5;66;03m#Succesfully created a dataframe\u001b[39;00m\n\u001b[0;32m     42\u001b[0m Aggregated_Transaction\u001b[38;5;241m=\u001b[39mpd\u001b[38;5;241m.\u001b[39mDataFrame(clm)\n\u001b[1;32m---> 43\u001b[0m Aggregated_Transaction[\u001b[38;5;124m'\u001b[39m\u001b[38;5;124mState\u001b[39m\u001b[38;5;124m'\u001b[39m] \u001b[38;5;241m=\u001b[39m Aggregated_Transaction[\u001b[38;5;124m'\u001b[39m\u001b[38;5;124mState\u001b[39m\u001b[38;5;124m'\u001b[39m]\u001b[38;5;241m.\u001b[39mreplace(\u001b[43mstate_mapping\u001b[49m)\n",
      "\u001b[1;31mNameError\u001b[0m: name 'state_mapping' is not defined"
     ]
    }
   ],
   "source": [
    "#Once created the clone of GIT-HUB repository then,\n",
    "#Required libraries for the program\n",
    "\n",
    "import pandas as pd\n",
    "import json\n",
    "import os\n",
    "\n",
    "#This is to direct the path to get the data as states\n",
    "\n",
    "path=\"D:/PHONEPAY/pulse/data/aggregated/transaction/country/india/state/\"\n",
    "Agg_state_list=os.listdir(path)\n",
    "Agg_state_list\n",
    "#Agg_state_list--> to get the list of states in India\n",
    "\n",
    "#<------------------------------------------------------------------------------------------------------------------------------------------------------------------------------------------------------------>#\n",
    "\n",
    "#This is to extract the data's to create a dataframe\n",
    "\n",
    "clm={'State':[], 'Year':[],'Quater':[],'Transacion_type':[], 'Transacion_count':[], 'Transacion_amount':[]}\n",
    "\n",
    "for i in Agg_state_list:\n",
    "    p_i=path+i+\"/\"\n",
    "    Agg_yr=os.listdir(p_i)\n",
    "    for j in Agg_yr:\n",
    "        p_j=p_i+j+\"/\"\n",
    "        Agg_yr_list=os.listdir(p_j)\n",
    "        for k in Agg_yr_list:\n",
    "            p_k=p_j+k\n",
    "            Data=open(p_k,'r')\n",
    "            D=json.load(Data)\n",
    "            for z in D['data']['transactionData']:\n",
    "              Name=z['name']\n",
    "              count=z['paymentInstruments'][0]['count']\n",
    "              amount=z['paymentInstruments'][0]['amount']\n",
    "              clm['Transacion_type'].append(Name)\n",
    "              clm['Transacion_count'].append(count)\n",
    "              clm['Transacion_amount'].append(amount)\n",
    "              clm['State'].append(i)\n",
    "              clm['Year'].append(j)\n",
    "              clm['Quater'].append(int(k.strip('.json')))\n",
    "#Succesfully created a dataframe\n",
    "Aggregated_Transaction=pd.DataFrame(clm)\n",
    "Aggregated_Transaction['State'] = Aggregated_Transaction['State'].replace(state_mapping)\n"
   ]
  },
  {
   "cell_type": "code",
   "execution_count": 2,
   "metadata": {},
   "outputs": [
    {
     "data": {
      "text/plain": [
       "array(['Recharge & bill payments', 'Peer-to-peer payments',\n",
       "       'Merchant payments', 'Financial Services', 'Others'], dtype=object)"
      ]
     },
     "execution_count": 2,
     "metadata": {},
     "output_type": "execute_result"
    }
   ],
   "source": [
    "Aggregated_Transaction['Transacion_type'].unique()"
   ]
  },
  {
   "cell_type": "code",
   "execution_count": 21,
   "metadata": {},
   "outputs": [
    {
     "name": "stdout",
     "output_type": "stream",
     "text": [
      "Collecting psycopg2\n",
      "  Downloading psycopg2-2.9.9-cp312-cp312-win_amd64.whl.metadata (4.5 kB)\n",
      "Downloading psycopg2-2.9.9-cp312-cp312-win_amd64.whl (1.2 MB)\n",
      "   ---------------------------------------- 0.0/1.2 MB ? eta -:--:--\n",
      "   ---------------------------------------- 0.0/1.2 MB ? eta -:--:--\n",
      "   ---------------------------------------- 0.0/1.2 MB ? eta -:--:--\n",
      "   ---------------------------------------- 0.0/1.2 MB ? eta -:--:--\n",
      "   - -------------------------------------- 0.0/1.2 MB 245.8 kB/s eta 0:00:05\n",
      "   ---- ----------------------------------- 0.1/1.2 MB 653.6 kB/s eta 0:00:02\n",
      "   -------- ------------------------------- 0.3/1.2 MB 1.0 MB/s eta 0:00:01\n",
      "   ------------- -------------------------- 0.4/1.2 MB 1.3 MB/s eta 0:00:01\n",
      "   ----------------- ---------------------- 0.5/1.2 MB 1.5 MB/s eta 0:00:01\n",
      "   ------------------------ --------------- 0.7/1.2 MB 1.9 MB/s eta 0:00:01\n",
      "   ------------------------ --------------- 0.7/1.2 MB 1.8 MB/s eta 0:00:01\n",
      "   ----------------------------- ---------- 0.9/1.2 MB 1.8 MB/s eta 0:00:01\n",
      "   ----------------------------------- ---- 1.0/1.2 MB 1.9 MB/s eta 0:00:01\n",
      "   ---------------------------------------  1.2/1.2 MB 2.1 MB/s eta 0:00:01\n",
      "   ---------------------------------------  1.2/1.2 MB 2.1 MB/s eta 0:00:01\n",
      "   ---------------------------------------- 1.2/1.2 MB 1.8 MB/s eta 0:00:00\n",
      "Installing collected packages: psycopg2\n",
      "Successfully installed psycopg2-2.9.9\n"
     ]
    }
   ],
   "source": [
    "!pip install psycopg2"
   ]
  },
  {
   "cell_type": "code",
   "execution_count": 22,
   "metadata": {},
   "outputs": [],
   "source": [
    "import psycopg2"
   ]
  },
  {
   "cell_type": "code",
   "execution_count": 20,
   "metadata": {},
   "outputs": [
    {
     "name": "stderr",
     "output_type": "stream",
     "text": [
      "C:\\Users\\Prem\\AppData\\Local\\Temp\\ipykernel_6836\\2794504017.py:8: FutureWarning:\n",
      "\n",
      "\n",
      "\n",
      "Passing `palette` without assigning `hue` is deprecated and will be removed in v0.14.0. Assign the `x` variable to `hue` and set `legend=False` for the same effect.\n",
      "\n",
      "\n"
     ]
    },
    {
     "data": {
      "text/html": [
       "<svg  width=\"330\" height=\"55\"><rect x=\"0\" y=\"0\" width=\"55\" height=\"55\" style=\"fill:#35193e;stroke-width:2;stroke:rgb(255,255,255)\"/><rect x=\"55\" y=\"0\" width=\"55\" height=\"55\" style=\"fill:#701f57;stroke-width:2;stroke:rgb(255,255,255)\"/><rect x=\"110\" y=\"0\" width=\"55\" height=\"55\" style=\"fill:#ad1759;stroke-width:2;stroke:rgb(255,255,255)\"/><rect x=\"165\" y=\"0\" width=\"55\" height=\"55\" style=\"fill:#e13342;stroke-width:2;stroke:rgb(255,255,255)\"/><rect x=\"220\" y=\"0\" width=\"55\" height=\"55\" style=\"fill:#f37651;stroke-width:2;stroke:rgb(255,255,255)\"/><rect x=\"275\" y=\"0\" width=\"55\" height=\"55\" style=\"fill:#f6b48f;stroke-width:2;stroke:rgb(255,255,255)\"/></svg>"
      ],
      "text/plain": [
       "[(0.20973515, 0.09747934, 0.24238489),\n",
       " (0.43860848, 0.12177004, 0.34119475),\n",
       " (0.67824099, 0.09192342, 0.3504148),\n",
       " (0.8833417, 0.19830556, 0.26014181),\n",
       " (0.95381595, 0.46373781, 0.31769923),\n",
       " (0.96516917, 0.70776351, 0.5606593)]"
      ]
     },
     "execution_count": 20,
     "metadata": {},
     "output_type": "execute_result"
    }
   ],
   "source": [
    "import seaborn as sns\n",
    "\n",
    "#fig = px.pie(values=Aggregated_Transaction[\"State\"], names=Aggregated_Transaction[\"Transacion_count\"])\n",
    "#fig.show()\n",
    "sns.set_theme(style=\"darkgrid\")\n",
    "\n",
    "\n",
    "sns.barplot(x=Aggregated_Transaction[\"Transacion_count\"], y=Aggregated_Transaction[\"Transacion_count\"],palette=\"Oranges\")\n",
    "sns.color_palette(\"rocket\")"
   ]
  },
  {
   "cell_type": "code",
   "execution_count": 13,
   "metadata": {},
   "outputs": [
    {
     "data": {
      "text/plain": [
       "array(['Andaman & Nicobar', 'Andhra Pradesh', 'Arunachal Pradesh',\n",
       "       'Assam', 'Bihar', 'Chandigarh', 'Chhattisgarh',\n",
       "       'Dadra and Nagar Haveli and Daman and Diu', 'Delhi', 'Goa',\n",
       "       'Gujarat', 'Haryana', 'Himachal Pradesh', 'Jammu & Kashmir',\n",
       "       'Jharkhand', 'Karnataka', 'Kerala', 'Ladakh', 'Lakshadweep',\n",
       "       'Madhya Pradesh', 'Maharashtra', 'Manipur', 'Meghalaya', 'Mizoram',\n",
       "       'Nagaland', 'Odisha', 'Puducherry', 'Punjab', 'Rajasthan',\n",
       "       'Sikkim', 'Tamil Nadu', 'Telangana', 'Tripura', 'Uttar Pradesh',\n",
       "       'Uttarakhand', 'West Bengal'], dtype=object)"
      ]
     },
     "execution_count": 13,
     "metadata": {},
     "output_type": "execute_result"
    }
   ],
   "source": [
    "(Aggregated_Transaction[\"State\"].unique())"
   ]
  },
  {
   "cell_type": "code",
   "execution_count": 3,
   "metadata": {},
   "outputs": [],
   "source": [
    "#Once created the clone of GIT-HUB repository then,\n",
    "#Required libraries for the program\n",
    "\n",
    "import pandas as pd\n",
    "import json\n",
    "import os\n",
    "\n",
    "#This is to direct the path to get the data as states\n",
    "\n",
    "path_2=\"D:/PHONEPAY/pulse/data/aggregated/user/country/india/state/\"\n",
    "Agg_user_state_list=os.listdir(path_2)\n",
    "\n",
    "Agg_user_data={'State':[], 'Year':[],'Quater':[],'Brand':[],'Count':[], 'Percentage':[]}\n",
    "\n",
    "for i in Agg_user_state_list:\n",
    "    p_i=path_2+i+\"/\"\n",
    "    Agg_year=os.listdir(p_i)\n",
    "    for j in Agg_year:\n",
    "        p_j=p_i+j+\"/\"\n",
    "        Agg_year_list=os.listdir(p_j)\n",
    "        for k in Agg_year_list:\n",
    "            p_k=p_j+k\n",
    "            data=open(p_k,'r')\n",
    "            U=json.load(data)\n",
    "            try:\n",
    "\n",
    "              for b in U['data']['usersByDevice']:\n",
    "                brand=b[\"brand\"]\n",
    "                count=b[\"count\"]\n",
    "                percentage=b[\"percentage\"]\n",
    "\n",
    "                Agg_user_data['Brand'].append(brand)\n",
    "                Agg_user_data['Count'].append(count)\n",
    "                Agg_user_data['Percentage'].append(percentage*100)\n",
    "                Agg_user_data['State'].append(i)\n",
    "                Agg_user_data['Year'].append(j)\n",
    "                Agg_user_data['Quater'].append(int(k.strip('.json')))\n",
    "            except:\n",
    "              pass\n",
    "\n",
    "Aggeregated_User=pd.DataFrame(Agg_user_data)\n",
    "Aggeregated_User['State'] = Aggeregated_User['State'].replace(state_mapping)\n",
    "            "
   ]
  },
  {
   "cell_type": "code",
   "execution_count": 4,
   "metadata": {},
   "outputs": [],
   "source": [
    "path_3=\"D:/PHONEPAY/pulse/data/map/transaction/hover/country/india/state/\"\n",
    "Map_transaction_state_list=os.listdir(path_3)\n",
    "\n",
    "map_trans_data={'State':[],'Year':[],'Quater':[],'District':[],'Count':[],'Amount':[]}\n",
    "\n",
    "for i in Map_transaction_state_list:\n",
    "    p_i=path_3+i+\"/\"\n",
    "    map_year=os.listdir(p_i)\n",
    "    for j in map_year:\n",
    "        p_j=p_i+j+\"/\"\n",
    "        map_year_list=os.listdir(p_j)\n",
    "        for k in map_year_list:\n",
    "            p_k=p_j+k\n",
    "            map_data=open(p_k,'r')\n",
    "            C=json.load(map_data)\n",
    "            for y in C:\n",
    "              dist_ct=C['data']['hoverDataList'][0]['name']\n",
    "              count=C['data']['hoverDataList'][0]['metric'][0]['count']\n",
    "              amount=C['data']['hoverDataList'][0]['metric'][0]['amount']\n",
    "              map_trans_data[\"State\"].append(i)\n",
    "              map_trans_data[\"Year\"].append(j)\n",
    "              map_trans_data[\"District\"].append(dist_ct)\n",
    "              map_trans_data[\"Count\"].append(count)\n",
    "              map_trans_data[\"Amount\"].append(amount)\n",
    "              map_trans_data['Quater'].append(int(k.strip('.json')))\n",
    "map_transaction=pd.DataFrame(map_trans_data)\n",
    "\n",
    "map_transaction['State'] = map_transaction['State'].replace(state_mapping)"
   ]
  },
  {
   "cell_type": "code",
   "execution_count": 5,
   "metadata": {},
   "outputs": [],
   "source": [
    "path_4=\"D:/PHONEPAY/pulse/data/map/user/hover/country/india/state/\"\n",
    "Map_user_state_list=os.listdir(path_4)\n",
    "\n",
    "Map_user_data={'State':[],'Year':[],'Quater':[],'District':[],'Registerdusers':[],'Appopens':[]}\n",
    "\n",
    "for i in Map_user_state_list:\n",
    "    p_i=path_4+i+\"/\"\n",
    "    map_year=os.listdir(p_i)\n",
    "    for j in map_year:\n",
    "        p_j=p_i+j+\"/\"\n",
    "        map_year_list=os.listdir(p_j)\n",
    "        for k in map_year_list:\n",
    "            p_k=p_j+k\n",
    "            map_user_data=open(p_k,'r')\n",
    "            m=json.load(map_user_data)\n",
    "            for map in m[\"data\"][\"hoverData\"].items():\n",
    "              district=map[0]\n",
    "              reg_users=map[1][\"registeredUsers\"]\n",
    "              app_opens=map[1]['appOpens']\n",
    "\n",
    "              Map_user_data[\"District\"].append(district)\n",
    "              Map_user_data[\"Registerdusers\"].append(reg_users)\n",
    "\n",
    "              Map_user_data[\"Appopens\"].append(app_opens)\n",
    "              Map_user_data[\"State\"].append(i)\n",
    "              Map_user_data[\"Year\"].append(j)\n",
    "              Map_user_data['Quater'].append(int(k.strip('.json')))\n",
    "Map_User=pd.DataFrame( Map_user_data)\n",
    "Map_User['State'] = Map_User['State'].replace(state_mapping)"
   ]
  },
  {
   "cell_type": "code",
   "execution_count": 6,
   "metadata": {},
   "outputs": [],
   "source": [
    "path_5=\"D:/PHONEPAY/pulse/data/top/transaction/country/india/state/\"\n",
    "Top_transaction_state_list=os.listdir(path_5)\n",
    "\n",
    "Top_trans_data={'State':[],'Year':[],'Quater':[],'District_pincode':[],'Count':[],'Amount':[]}\n",
    "\n",
    "for i in Top_transaction_state_list:\n",
    "    p_i=path_5+i+\"/\"\n",
    "    Top_year=os.listdir(p_i)\n",
    "    for j in Top_year:\n",
    "        p_j=p_i+j+\"/\"\n",
    "        Top_year_list=os.listdir(p_j)\n",
    "        for k in Top_year_list:\n",
    "            p_k=p_j+k\n",
    "            Top_data=open(p_k,'r')\n",
    "            T=json.load(Top_data)\n",
    "            for top in T['data']['pincodes']:\n",
    "                pincode=top['entityName']\n",
    "                count=top['metric']['count']\n",
    "                amount=top['metric']['amount']\n",
    "                Top_trans_data[\"State\"].append(i)\n",
    "                Top_trans_data[\"Year\"].append(j)\n",
    "                Top_trans_data[\"District_pincode\"].append(pincode)\n",
    "                Top_trans_data[\"Count\"].append(count)\n",
    "                Top_trans_data[\"Amount\"].append(amount)\n",
    "                Top_trans_data['Quater'].append(int(k.strip('.json')))\n",
    "\n",
    "\n",
    "Top_transaction=pd.DataFrame(Top_trans_data)\n",
    "Top_transaction['State'] = Top_transaction['State'].replace(state_mapping)"
   ]
  },
  {
   "cell_type": "code",
   "execution_count": 7,
   "metadata": {},
   "outputs": [],
   "source": [
    "path_6=\"D://PHONEPAY//pulse//data//top//user//country//india//state//\"\n",
    "Top_user_state_list=os.listdir(path_6)\n",
    "\n",
    "Top_user_data={'State':[],'Year':[],'Quater':[],'District_Pincode':[],'Registerd_User':[]}\n",
    "\n",
    "for i in Top_user_state_list:\n",
    "    p_i=path_6+i+\"//\"\n",
    "    Top_year=os.listdir(p_i)\n",
    "    for j in Top_year:\n",
    "        p_j=p_i+j+\"/\"\n",
    "        Top_year_list=os.listdir(p_j)\n",
    "        for k in Top_year_list:\n",
    "            p_k=p_j+k\n",
    "            to=open(p_k,'r')\n",
    "            user=json.load(to)\n",
    "           \n",
    "           \n",
    "            for t in user['data']['pincodes']:\n",
    "                pin_code=t[\"name\"]\n",
    "                reg_users=t[\"registeredUsers\"]\n",
    "                Top_user_data [\"State\"] .append(i)\n",
    "                Top_user_data[\"Year\"].append(j)\n",
    "                Top_user_data[\"Quater\"].append(int(k.strip('.json')))\n",
    "                Top_user_data[\"District_Pincode\"].append(pin_code)\n",
    "                Top_user_data[\"Registerd_User\"].append(reg_users)\n",
    "\n",
    "Top_user=pd.DataFrame(Top_user_data)   \n",
    "Top_user['State'] = Top_user['State'].replace(state_mapping)\n",
    "                \n",
    "                "
   ]
  },
  {
   "cell_type": "code",
   "execution_count": 14,
   "metadata": {},
   "outputs": [],
   "source": [
    "import json\n",
    "import pymysql\n",
    "from sqlalchemy import create_engine\n",
    "import mysql.connector"
   ]
  },
  {
   "cell_type": "code",
   "execution_count": 15,
   "metadata": {},
   "outputs": [
    {
     "name": "stdout",
     "output_type": "stream",
     "text": [
      "<mysql.connector.connection_cext.CMySQLConnection object at 0x000002C0F69E99A0>\n"
     ]
    }
   ],
   "source": [
    "mydb = mysql.connector.connect(\n",
    "  host=\"localhost\",\n",
    "  user=\"root\",\n",
    "  password=\"\",\n",
    "  database=\"\")\n",
    "print(mydb)\n",
    "mycursor = mydb.cursor(buffered=True)"
   ]
  },
  {
   "cell_type": "code",
   "execution_count": null,
   "metadata": {},
   "outputs": [],
   "source": [
    "mycursor.execute(\"create database Phonepe\")"
   ]
  },
  {
   "cell_type": "code",
   "execution_count": null,
   "metadata": {},
   "outputs": [],
   "source": [
    "mycursor.execute('''CREATE TABLE IF NOT EXISTS phonepe.AGGREGATED_TRANSACTION(State VARCHAR(255),\n",
    "                        Year INT(50),\n",
    "                        Quater INT(50),\n",
    "                        Transaction_type TEXT,\n",
    "                        Transaction_count BIGINT,\n",
    "                        Transaction_Amount VARCHAR(500)\n",
    "                )''')\n",
    "mydb.commit()"
   ]
  },
  {
   "cell_type": "code",
   "execution_count": null,
   "metadata": {},
   "outputs": [],
   "source": [
    "for index,row in Aggregated_Transaction.iterrows():\n",
    "    mycursor.execute('''INSERT INTO phonepe.AGGREGATED_TRANSACTION(State,Year,Quater,Transaction_type,Transaction_count,Transaction_Amount)\n",
    "                     VALUES(%s,%s,%s,%s,%s,%s)''',\n",
    "                     (row['State'],row['Year'],row['Quater'],row['Transacion_type'],row['Transacion_count'],row['Transacion_amount']))\n",
    "mydb.commit()"
   ]
  },
  {
   "cell_type": "code",
   "execution_count": 10,
   "metadata": {},
   "outputs": [],
   "source": [
    "mycursor.execute('''CREATE TABLE IF NOT EXISTS phonepe.AGGREGATED_USER(State VARCHAR(255),\n",
    "                        Year INT(50),\n",
    "                        Quater INT(50),\n",
    "                        Brand TEXT,\n",
    "                        Count BIGINT,\n",
    "                        Percentage float\n",
    "                )''')\n",
    "mydb.commit()"
   ]
  },
  {
   "cell_type": "code",
   "execution_count": 11,
   "metadata": {},
   "outputs": [],
   "source": [
    "for index,row in Aggeregated_User.iterrows():\n",
    "    mycursor.execute('''INSERT INTO phonepe.AGGREGATED_USER(State,Year,Quater, Brand ,Count,Percentage)\n",
    "                     VALUES(%s,%s,%s,%s,%s,%s)''',\n",
    "                     (row['State'],row['Year'],row['Quater'],row['Brand'],row['Count'],row['Percentage']))\n",
    "mydb.commit()"
   ]
  },
  {
   "cell_type": "code",
   "execution_count": null,
   "metadata": {},
   "outputs": [],
   "source": [
    "mycursor.execute('''CREATE TABLE IF NOT EXISTS phonepe.MAP_TRANSACTION(State VARCHAR(255),\n",
    "                        Year INT(50),\n",
    "                        Quater INT(50),\n",
    "                        District TEXT,\n",
    "                        Transaction_count BIGINT,\n",
    "                        TRansaction_amount VARCHAR(500)\n",
    "                )''')\n",
    "mydb.commit()"
   ]
  },
  {
   "cell_type": "code",
   "execution_count": null,
   "metadata": {},
   "outputs": [],
   "source": [
    "for index,row in map_transaction.iterrows():\n",
    "    mycursor.execute('''INSERT INTO phonepe.MAP_TRANSACTION(State,Year,Quater,District,Transaction_count,Transaction_amount)\n",
    "                     VALUES(%s,%s,%s,%s,%s,%s)''',\n",
    "                     (row['State'],row['Year'],row['Quater'],row['District'],row['Count'],row['Amount']))\n",
    "mydb.commit()"
   ]
  },
  {
   "cell_type": "code",
   "execution_count": null,
   "metadata": {},
   "outputs": [],
   "source": [
    "mycursor.execute('''CREATE TABLE IF NOT EXISTS phonepe.MAP_USER(State VARCHAR(255),\n",
    "                        Year INT(50),\n",
    "                        Quater INT(50),\n",
    "                        District TEXT,\n",
    "                        Registered_Users BIGINT,\n",
    "                        App_opens VARCHAR(500)\n",
    "                )''')\n",
    "mydb.commit()"
   ]
  },
  {
   "cell_type": "code",
   "execution_count": null,
   "metadata": {},
   "outputs": [],
   "source": [
    "for index,row in Map_User.iterrows():\n",
    "    mycursor.execute('''INSERT INTO phonepe.MAP_USER(State,Year,Quater,District, Registered_Users,App_opens)\n",
    "                     VALUES(%s,%s,%s,%s,%s,%s)''',\n",
    "                     (row['State'],row['Year'],row['Quater'],row['District'],row['Registerdusers'],row['Appopens']))\n",
    "mydb.commit()"
   ]
  },
  {
   "cell_type": "code",
   "execution_count": null,
   "metadata": {},
   "outputs": [],
   "source": [
    "mycursor.execute('''CREATE TABLE IF NOT EXISTS phonepe.TOP_TRANSACTION(State VARCHAR(255),\n",
    "                        Year INT(50),\n",
    "                        Quater INT(50),\n",
    "                        District_Pincode INT(50),\n",
    "                        Count BIGINT,\n",
    "                        Amount BIGINT\n",
    "                )''')\n",
    "mydb.commit()"
   ]
  },
  {
   "cell_type": "code",
   "execution_count": null,
   "metadata": {},
   "outputs": [],
   "source": [
    "for index,row in Top_transaction.iterrows():\n",
    "    mycursor.execute('''INSERT INTO phonepe.TOP_TRANSACTION(State,Year,Quater,District_pincode,Count,Amount)\n",
    "                     VALUES(%s,%s,%s,%s,%s,%s)''',\n",
    "                     (row['State'],row['Year'],row['Quater'],row['District_pincode'],row['Count'],row['Amount']))\n",
    "mydb.commit()"
   ]
  },
  {
   "cell_type": "code",
   "execution_count": null,
   "metadata": {},
   "outputs": [],
   "source": [
    "mycursor.execute('''CREATE TABLE IF NOT EXISTS phonepe.Top_USER(State VARCHAR(255),\n",
    "                        Year INT(50),\n",
    "                        Quater INT(50),\n",
    "                        District_pincode INT(50),\n",
    "                        Registered_Users TEXT\n",
    "                        \n",
    "                )''')\n",
    "mydb.commit()"
   ]
  },
  {
   "cell_type": "code",
   "execution_count": null,
   "metadata": {},
   "outputs": [],
   "source": [
    "for index,row in Top_user.iterrows():\n",
    "    mycursor.execute('''INSERT INTO phonepe.TOP_USER(State,Year,Quater,District_pincode, Registered_Users)\n",
    "                     VALUES(%s,%s,%s,%s,%s)''',\n",
    "                     (row['State'],row['Year'],row['Quater'],row['District_Pincode'],row['Registerd_User']))\n",
    "mydb.commit()"
   ]
  }
 ],
 "metadata": {
  "kernelspec": {
   "display_name": "Python 3",
   "language": "python",
   "name": "python3"
  },
  "language_info": {
   "codemirror_mode": {
    "name": "ipython",
    "version": 3
   },
   "file_extension": ".py",
   "mimetype": "text/x-python",
   "name": "python",
   "nbconvert_exporter": "python",
   "pygments_lexer": "ipython3",
   "version": "3.12.2"
  }
 },
 "nbformat": 4,
 "nbformat_minor": 2
}
